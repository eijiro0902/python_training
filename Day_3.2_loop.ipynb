{
 "cells": [
  {
   "cell_type": "markdown",
   "metadata": {},
   "source": [
    "#List\n",
    "- ...."
   ]
  },
  {
   "cell_type": "code",
   "execution_count": 42,
   "metadata": {},
   "outputs": [
    {
     "data": {
      "text/plain": [
       "[10, 20, 40]"
      ]
     },
     "execution_count": 42,
     "metadata": {},
     "output_type": "execute_result"
    }
   ],
   "source": [
    "marks = [10, 20, 40]\n",
    "marks[:]"
   ]
  },
  {
   "cell_type": "code",
   "execution_count": 14,
   "metadata": {},
   "outputs": [
    {
     "data": {
      "text/plain": [
       "7"
      ]
     },
     "execution_count": 14,
     "metadata": {},
     "output_type": "execute_result"
    }
   ],
   "source": [
    "#add at end\n",
    "marks.append(40)\n",
    "\n",
    "#count list\n",
    "len(marks)"
   ]
  },
  {
   "cell_type": "code",
   "execution_count": 18,
   "metadata": {},
   "outputs": [],
   "source": [
    "#Insert add in middle\n",
    "marks.insert(2, 30)"
   ]
  },
  {
   "cell_type": "markdown",
   "metadata": {},
   "source": [
    "##Add\n",
    "- append\n",
    "\n",
    "```python\n",
    "insert()\n",
    "```"
   ]
  },
  {
   "cell_type": "markdown",
   "metadata": {},
   "source": [
    "##CRUD\n",
    "- create - []\n",
    "- read   - index & slice(:)\n",
    "- update - append & Insert\n",
    "```py\n",
    "    Insert[]\n",
    "```\n",
    "- Delete - remove & pop\n",
    "remove(index)\n",
    "pop(value)"
   ]
  },
  {
   "cell_type": "code",
   "execution_count": null,
   "metadata": {},
   "outputs": [
    {
     "data": {
      "text/plain": [
       "30"
      ]
     },
     "execution_count": 21,
     "metadata": {},
     "output_type": "execute_result"
    }
   ],
   "source": [
    "#Remove\n",
    "#Remove by index\n",
    "# marks.pop(2)\n",
    "\n",
    "#Remove by value\n",
    "marks.remove(100)"
   ]
  },
  {
   "cell_type": "code",
   "execution_count": 34,
   "metadata": {},
   "outputs": [
    {
     "data": {
      "text/plain": [
       "[10, 25, 40]"
      ]
     },
     "execution_count": 34,
     "metadata": {},
     "output_type": "execute_result"
    }
   ],
   "source": [
    "marks"
   ]
  },
  {
   "cell_type": "code",
   "execution_count": null,
   "metadata": {},
   "outputs": [],
   "source": []
  },
  {
   "cell_type": "code",
   "execution_count": 35,
   "metadata": {},
   "outputs": [],
   "source": [
    "marks[1] = 25"
   ]
  },
  {
   "cell_type": "code",
   "execution_count": 39,
   "metadata": {},
   "outputs": [],
   "source": [
    "for i in range(len(marks)):\n",
    "    marks[i] = marks[i]*2"
   ]
  },
  {
   "cell_type": "code",
   "execution_count": 40,
   "metadata": {},
   "outputs": [
    {
     "name": "stdout",
     "output_type": "stream",
     "text": [
      "40\n",
      "100\n",
      "160\n"
     ]
    }
   ],
   "source": [
    "for i in range(len(marks)):\n",
    "    print(marks[i])"
   ]
  },
  {
   "cell_type": "code",
   "execution_count": 28,
   "metadata": {},
   "outputs": [
    {
     "data": {
      "text/plain": [
       "3"
      ]
     },
     "execution_count": 28,
     "metadata": {},
     "output_type": "execute_result"
    }
   ],
   "source": [
    "len(marks)"
   ]
  },
  {
   "cell_type": "code",
   "execution_count": 45,
   "metadata": {},
   "outputs": [],
   "source": [
    "#\n",
    "double_marks = []\n",
    "power_marks =[]\n",
    "\n",
    "for i in range(len(marks)):\n",
    "    double_marks.append(marks[i] * 2)\n",
    "    power_marks.append(marks[i] ** 2)\n",
    "\n"
   ]
  },
  {
   "cell_type": "code",
   "execution_count": 46,
   "metadata": {},
   "outputs": [
    {
     "name": "stdout",
     "output_type": "stream",
     "text": [
      "[10, 20, 40]\n",
      "[20, 40, 80]\n",
      "[100, 400, 1600]\n"
     ]
    }
   ],
   "source": [
    "print(marks)\n",
    "print(double_marks)\n",
    "print(power_marks)"
   ]
  },
  {
   "cell_type": "markdown",
   "metadata": {},
   "source": [
    "- outline \n",
    "- multiple (more than 2 )\n",
    "\n",
    "- reverse list\n",
    "```python\n",
    "    [::-1]\n",
    "```\n",
    "\n"
   ]
  },
  {
   "cell_type": "markdown",
   "metadata": {},
   "source": [
    "## Task 2.1\n",
    "Find longer names (>= 6 letter)\n",
    "\n",
    "`characters = ['Hello kitty', 'Goku', 'Pikachu', 'Luffy', 'Yuji Itadori', \"Levi\"]`\n",
    "\n",
    "### Expected Output\n",
    "`['Hello kitty', 'Pikachu', 'Yuji Itadori']`"
   ]
  },
  {
   "cell_type": "code",
   "execution_count": 12,
   "metadata": {},
   "outputs": [
    {
     "data": {
      "text/plain": [
       "['Hello kitty', 'Pikachu', 'Yuji Itadori']"
      ]
     },
     "execution_count": 12,
     "metadata": {},
     "output_type": "execute_result"
    }
   ],
   "source": [
    "characters = ['Hello kitty', 'Goku', 'Pikachu', 'Luffy', 'Yuji Itadori', \"Levi\"]\n",
    "output = []\n",
    "\n",
    "for i in range(len(characters)):\n",
    "    if len(characters[i]) >= 6:\n",
    "        output.append(characters[i])\n",
    "\n",
    "output  "
   ]
  },
  {
   "cell_type": "code",
   "execution_count": 24,
   "metadata": {},
   "outputs": [
    {
     "name": "stdout",
     "output_type": "stream",
     "text": [
      "Hello kitty\n",
      "Pikachu\n",
      "Yuji Itadori\n"
     ]
    }
   ],
   "source": [
    "for i in range(len(characters)):\n",
    "    if len(characters[i]) >= 6:\n",
    "        print(characters[i])\n"
   ]
  },
  {
   "cell_type": "code",
   "execution_count": null,
   "metadata": {},
   "outputs": [
    {
     "data": {
      "text/plain": [
       "'Hello kitty'"
      ]
     },
     "execution_count": 22,
     "metadata": {},
     "output_type": "execute_result"
    }
   ],
   "source": [
    "list_name.append(\"Hello kitty\")"
   ]
  },
  {
   "cell_type": "markdown",
   "metadata": {},
   "source": [
    "## Task 2.2\n",
    "\n",
    "Calculate the total of shopping_items & apply tax of 10%\n",
    "\n",
    "```py\n",
    "shopping_items = [1000, 5000,  4000, 2000, 3000]\n",
    "```\n",
    "\n",
    "Expected Output\n",
    "\n",
    "```\n",
    "Your totals is 15,000\n",
    "Tax is 10%      1,500 \n",
    "Your grand total is 16,500\n",
    "```"
   ]
  },
  {
   "cell_type": "markdown",
   "metadata": {},
   "source": [
    "## Task 2.2\n",
    "\n",
    "Calculate the total of shopping_items & apply tax of 10%\n",
    "\n",
    "```py\n",
    "shopping_items = [1000, 5000,  4000, 2000, 3000]\n",
    "```\n",
    "\n",
    "Expected Output\n",
    "\n",
    "```\n",
    "Your totals is 15,000\n",
    "Tax is 10%      1,500 \n",
    "Your grand total is 16,500\n",
    "```"
   ]
  },
  {
   "cell_type": "code",
   "execution_count": 47,
   "metadata": {},
   "outputs": [
    {
     "name": "stdout",
     "output_type": "stream",
     "text": [
      "\n",
      "Your total is 15000.0\n",
      "Tax is 0.1  1500.0\n",
      "Your grand total is 16,500.0\n",
      "\n"
     ]
    }
   ],
   "source": [
    "shopping_items = [1000, 5000,  4000, 2000, 3000]\n",
    "total_price = 0\n",
    "tax_rate = 0.1\n",
    "\n",
    "for i in range(len(shopping_items)):\n",
    "    total_price += float(shopping_items[i])\n",
    "\n",
    "# print(f'Your total is {total_price}')\n",
    "# print(f'Tax is {tax_rate}  {total_price*tax_rate}')\n",
    "# print(f'Your grand total is {total_price*(1+tax_rate):,}')\n",
    "\n",
    "print(f\"\"\"\n",
    "Your total is {total_price}\n",
    "Tax is {tax_rate}  {total_price*tax_rate}\n",
    "Your grand total is {total_price*(1+tax_rate):,}\n",
    "\"\"\")\n",
    "\n",
    "#Using round() is better\n",
    "#{:,} -> 2,000,000"
   ]
  },
  {
   "cell_type": "code",
   "execution_count": 42,
   "metadata": {},
   "outputs": [
    {
     "name": "stdout",
     "output_type": "stream",
     "text": [
      "15000.0\n"
     ]
    }
   ],
   "source": [
    "#Answer\n",
    "print(total_price)"
   ]
  },
  {
   "cell_type": "markdown",
   "metadata": {},
   "source": [
    "# for..range | index & value\n",
    "# for i in range(len(characters)): # i -> index\n",
    "#     print(characters[i])\n",
    "\n",
    "# for..in | value -> Start\n",
    "for character in characters: # character -> value\n",
    "    print(character)"
   ]
  },
  {
   "cell_type": "markdown",
   "metadata": {},
   "source": [
    "## DX(expressing digits)"
   ]
  },
  {
   "cell_type": "code",
   "execution_count": 41,
   "metadata": {},
   "outputs": [
    {
     "name": "stdout",
     "output_type": "stream",
     "text": [
      "420000000\n"
     ]
    }
   ],
   "source": [
    "#Developer experience(DX)\n",
    "salary = 420_000_000  # Using underscores for readability\n",
    "print(salary)  # Output: 420000000"
   ]
  },
  {
   "cell_type": "markdown",
   "metadata": {},
   "source": [
    "## Multi line string\n",
    "\n",
    "- f\n",
    "\n",
    "- ctr + d"
   ]
  },
  {
   "cell_type": "code",
   "execution_count": 43,
   "metadata": {},
   "outputs": [
    {
     "name": "stdout",
     "output_type": "stream",
     "text": [
      "\n",
      "Hello\n",
      "My name is John    \n",
      "\n"
     ]
    }
   ],
   "source": [
    "print(f\"\"\"\n",
    "Hello\n",
    "My name is John    \n",
    "\"\"\")"
   ]
  },
  {
   "cell_type": "code",
   "execution_count": null,
   "metadata": {},
   "outputs": [],
   "source": [
    "list = [100, 200]\n",
    "sum(list)"
   ]
  },
  {
   "cell_type": "code",
   "execution_count": 48,
   "metadata": {},
   "outputs": [
    {
     "name": "stdout",
     "output_type": "stream",
     "text": [
      "\n",
      "Your total is 15,000 \n",
      "Tax is 10%    1,500.0    \n",
      "Your grand total is 16,500.0\n",
      "\n"
     ]
    }
   ],
   "source": [
    "# Numeric Separator (_)\n",
    "\n",
    "shopping_items = [1_000, 5_000,  4_000, 2_000, 3_000] # DX ⬆️\n",
    "\n",
    "tax_rate = 0.1\n",
    "# SUm\n",
    "total = sum(shopping_items)  # DX ⬆️⬆️\n",
    "\n",
    "tax = total * tax_rate\n",
    "grand_total = total + tax\n",
    "\n",
    "# Multi string & Formatting\n",
    "print(\n",
    "f'''\n",
    "Your total is {total:,} \n",
    "Tax is 10%    {tax:,}    \n",
    "Your grand total is {grand_total:,}\n",
    "'''\n",
    ")  # DX ⬆️⬆️"
   ]
  },
  {
   "cell_type": "code",
   "execution_count": null,
   "metadata": {},
   "outputs": [],
   "source": []
  }
 ],
 "metadata": {
  "kernelspec": {
   "display_name": "Python 3",
   "language": "python",
   "name": "python3"
  },
  "language_info": {
   "codemirror_mode": {
    "name": "ipython",
    "version": 3
   },
   "file_extension": ".py",
   "mimetype": "text/x-python",
   "name": "python",
   "nbconvert_exporter": "python",
   "pygments_lexer": "ipython3",
   "version": "3.13.0"
  }
 },
 "nbformat": 4,
 "nbformat_minor": 2
}
