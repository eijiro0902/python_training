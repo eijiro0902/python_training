{
 "cells": [
  {
   "cell_type": "markdown",
   "metadata": {},
   "source": [
    "# Function(UDF)\n",
    "- reuse rogic\n",
    "- define -> call\n",
    "\n",
    "- name\n",
    "    - parameter(on def)\n",
    "    - argument(on call)\n",
    "\n",
    "    - Declaration = All lines of definition"
   ]
  },
  {
   "cell_type": "code",
   "execution_count": 10,
   "metadata": {},
   "outputs": [],
   "source": [
    "def add(n1,n2):\n",
    "    n_sum = round(n1 + n2,2)\n",
    "    return n_sum"
   ]
  },
  {
   "cell_type": "code",
   "execution_count": 11,
   "metadata": {},
   "outputs": [
    {
     "name": "stdout",
     "output_type": "stream",
     "text": [
      "10\n"
     ]
    }
   ],
   "source": [
    "print(add(4,6))"
   ]
  },
  {
   "cell_type": "code",
   "execution_count": 14,
   "metadata": {},
   "outputs": [],
   "source": [
    "def add2():\n",
    "    return 0"
   ]
  },
  {
   "cell_type": "code",
   "execution_count": null,
   "metadata": {},
   "outputs": [
    {
     "name": "stdout",
     "output_type": "stream",
     "text": [
      "0\n"
     ]
    }
   ],
   "source": [
    "add2()"
   ]
  },
  {
   "cell_type": "code",
   "execution_count": null,
   "metadata": {},
   "outputs": [],
   "source": [
    "def def_name(n1,n2):\n",
    "    body\n",
    "    return"
   ]
  },
  {
   "cell_type": "code",
   "execution_count": 22,
   "metadata": {},
   "outputs": [],
   "source": [
    "# declare\n",
    "def fire(fire_rows,character):\n",
    "    i = 1\n",
    "\n",
    "    while i <= fire_rows:\n",
    "        print(character * i)\n",
    "        i = i + 1"
   ]
  },
  {
   "cell_type": "code",
   "execution_count": 27,
   "metadata": {},
   "outputs": [
    {
     "name": "stdout",
     "output_type": "stream",
     "text": [
      "🍓\n",
      "🍓🍓\n",
      "🍍\n",
      "🍍🍍\n",
      "🍍🍍🍍\n",
      "🍍🍍🍍🍍\n",
      "🍍🍍🍍🍍🍍\n",
      "🍍🍍🍍🍍🍍🍍\n",
      "🥕\n",
      "🥕🥕\n",
      "🥕🥕🥕\n",
      "🥕🥕🥕🥕\n"
     ]
    }
   ],
   "source": [
    "fire(2, \"🍓\") # call\n",
    "fire(6, \"🍍\") \n",
    "fire(4, \"🥕\")"
   ]
  },
  {
   "cell_type": "code",
   "execution_count": 29,
   "metadata": {},
   "outputs": [],
   "source": [
    "shop = [\n",
    "    {\"name\": \"Apple\", \"quantity\": 30, \"price\": 0.50}, # 15\n",
    "    {\"name\": \"Banana\", \"quantity\": 20, \"price\": 0.20}, # 4\n",
    "]"
   ]
  },
  {
   "cell_type": "markdown",
   "metadata": {},
   "source": [
    "## Tasks\n",
    " \n",
    " 1. `get_total_items(shop)` -> 50\n",
    " 2. `get_shop_value(shop)` -> 19"
   ]
  },
  {
   "cell_type": "code",
   "execution_count": null,
   "metadata": {},
   "outputs": [],
   "source": [
    "def get_total_items(shop):\n",
    "    total_items = [s['quantity'] for s in shop]\n",
    "    return sum(total_items)"
   ]
  },
  {
   "cell_type": "code",
   "execution_count": 42,
   "metadata": {},
   "outputs": [
    {
     "ename": "TypeError",
     "evalue": "get_total_items() takes 0 positional arguments but 1 was given",
     "output_type": "error",
     "traceback": [
      "\u001b[1;31m---------------------------------------------------------------------------\u001b[0m",
      "\u001b[1;31mTypeError\u001b[0m                                 Traceback (most recent call last)",
      "Cell \u001b[1;32mIn[42], line 1\u001b[0m\n\u001b[1;32m----> 1\u001b[0m \u001b[43mget_total_items\u001b[49m\u001b[43m(\u001b[49m\u001b[43mshop\u001b[49m\u001b[43m)\u001b[49m\n",
      "\u001b[1;31mTypeError\u001b[0m: get_total_items() takes 0 positional arguments but 1 was given"
     ]
    }
   ],
   "source": [
    "get_total_items(shop)"
   ]
  },
  {
   "cell_type": "code",
   "execution_count": null,
   "metadata": {},
   "outputs": [],
   "source": [
    "def get_shop_value()"
   ]
  },
  {
   "cell_type": "code",
   "execution_count": 34,
   "metadata": {},
   "outputs": [],
   "source": [
    "shop_value = 0\n",
    "\n",
    "for s in shop:\n",
    "    shop_value += s['quantity'] * s['price']"
   ]
  },
  {
   "cell_type": "code",
   "execution_count": 40,
   "metadata": {},
   "outputs": [
    {
     "name": "stdout",
     "output_type": "stream",
     "text": [
      "\n",
      "total_items:50\n",
      "shop_value :19.0\n",
      "\n"
     ]
    }
   ],
   "source": [
    "print(f\"\"\"\n",
    "total_items:{total_items}\n",
    "shop_value :{shop_value}\n",
    "\"\"\")"
   ]
  },
  {
   "cell_type": "markdown",
   "metadata": {},
   "source": [
    "## Task 1\n",
    "\n",
    "`add_new_product(shop)`\n",
    "\n",
    "\n",
    "Expected Output\n",
    "```\n",
    "What is the product name? Orange\n",
    "What is the quantity? 50\n",
    "What is the price? 0.30\n",
    "Added Orange to shop.\n",
    "```\n",
    "\n",
    "`print(shop)`\n",
    "## Task 2\n",
    "\n",
    "Do you add more Y/N? Y\n",
    "## Task 3\n",
    "\n",
    "Main Menu\n",
    "1. Add Product\n",
    "2. Print all product in shop\n",
    "3. Exit\n",
    "\n",
    "What you liked about the training?"
   ]
  },
  {
   "cell_type": "code",
   "execution_count": 43,
   "metadata": {},
   "outputs": [],
   "source": [
    "shop = [\n",
    "    {\"name\": \"Apple\", \"quantity\": 30, \"price\": 0.50}, # 15\n",
    "    {\"name\": \"Banana\", \"quantity\": 20, \"price\": 0.20}, # 4\n",
    "]"
   ]
  },
  {
   "cell_type": "code",
   "execution_count": null,
   "metadata": {},
   "outputs": [],
   "source": [
    "#sample\n",
    "def sub_menu():\n",
    "    while True: # infinite loop\n",
    "        print(\"Hi, 🍍\")\n",
    "        choice = input(\"Do you want to print again Y/N\")\n",
    "        if choice == \"N\":\n",
    "            break\n",
    "\n",
    "sub_menu()"
   ]
  },
  {
   "cell_type": "code",
   "execution_count": 45,
   "metadata": {},
   "outputs": [
    {
     "data": {
      "text/plain": [
       "'Apple'"
      ]
     },
     "execution_count": 45,
     "metadata": {},
     "output_type": "execute_result"
    }
   ],
   "source": [
    "shop[0]['name']"
   ]
  },
  {
   "cell_type": "code",
   "execution_count": 53,
   "metadata": {},
   "outputs": [],
   "source": [
    "def add_new_product(shop):\n",
    "    while True:\n",
    "        product = input(\"What is the product name?\")\n",
    "        quantity = input(\"What is the quantity?\")\n",
    "        price = input(\"What is the price?\")\n",
    "\n",
    "        new_line = {}\n",
    "        new_line['name']     = product\n",
    "        new_line['quantity'] = int(quantity)\n",
    "        new_line['price']    = int(price)\n",
    "\n",
    "        shop.append(new_line)\n",
    "\n",
    "        response = input('Do you add more? Y/N')\n",
    "        if response == 'Y':\n",
    "            print(\"\")\n",
    "        elif response == 'N':\n",
    "            break\n",
    "        else:\n",
    "            print(\"Fill in approriate value\")\n",
    "\n",
    "    print('Added Orange to shop')\n",
    "    "
   ]
  },
  {
   "cell_type": "code",
   "execution_count": 54,
   "metadata": {},
   "outputs": [
    {
     "name": "stdout",
     "output_type": "stream",
     "text": [
      "Added Orange to shop\n"
     ]
    }
   ],
   "source": [
    "add_new_product(shop)"
   ]
  },
  {
   "cell_type": "code",
   "execution_count": 55,
   "metadata": {},
   "outputs": [
    {
     "name": "stdout",
     "output_type": "stream",
     "text": [
      "{'name': 'Apple', 'quantity': 30, 'price': 0.5}\n",
      "{'name': 'Banana', 'quantity': 20, 'price': 0.2}\n",
      "{'name': 'bananana', 'quantity': '20', 'price': '100000'}\n",
      "{'name': 'bana', 'quantity': '1', 'price': '10'}\n",
      "{'name': 'banananananannananana', 'quantity': '10000000000', 'price': '100000000000000'}\n",
      "{'name': 'bananananananananananaan', 'quantity': 100, 'price': 5}\n"
     ]
    }
   ],
   "source": [
    "for n in shop:\n",
    "    print(n)"
   ]
  },
  {
   "cell_type": "markdown",
   "metadata": {},
   "source": [
    "## Task 3\n",
    "\n",
    "Main Menu\n",
    "1. Add Product\n",
    "2. Print all product in shop\n",
    "3. Exit\n",
    "\n",
    "What you liked about the training?"
   ]
  },
  {
   "cell_type": "code",
   "execution_count": null,
   "metadata": {},
   "outputs": [],
   "source": [
    "def menu(shop):\n",
    "    while True:\n",
    "        res1 = str(input(\n",
    "            f\"\"\"\n",
    "1. Add Product\n",
    "2. Print all product in shop\n",
    "3. Exit\n",
    "                    \"\"\"\n",
    "        ))\n",
    "        if res1 == '1':\n",
    "            #add product\n",
    "            product = input(\"What is the product name?\")\n",
    "            quantity = input(\"What is the quantity?\")\n",
    "            price = input(\"What is the price?\")\n",
    "\n",
    "            new_line = {}\n",
    "            new_line['name']     = product\n",
    "            new_line['quantity'] = int(quantity)\n",
    "            new_line['price']    = int(price)\n",
    "\n",
    "            shop.append(new_line) \n",
    "        elif res1 == '2':\n",
    "            print(\"name---\")\n",
    "            for s in shop:\n",
    "                print(s['name'])\n",
    "        elif res1 == '3':\n",
    "            break\n",
    "\n",
    "        else:\n",
    "            print(\"Fill in appropriate value\")\n"
   ]
  },
  {
   "cell_type": "code",
   "execution_count": 61,
   "metadata": {},
   "outputs": [
    {
     "name": "stdout",
     "output_type": "stream",
     "text": [
      "Fill in appropriate value\n"
     ]
    }
   ],
   "source": [
    "menu(shop)"
   ]
  },
  {
   "cell_type": "code",
   "execution_count": null,
   "metadata": {},
   "outputs": [],
   "source": [
    "def add_new_product(shop):\n",
    "    while True:\n",
    "        product = input(\"What is the product name?\")\n",
    "        quantity = input(\"What is the quantity?\")\n",
    "        price = input(\"What is the price?\")\n",
    "\n",
    "        new_line = {}\n",
    "        new_line['name']     = product\n",
    "        new_line['quantity'] = int(quantity)\n",
    "        new_line['price']    = int(price)\n",
    "\n",
    "        shop.append(new_line)\n",
    "\n",
    "        response = input('Do you add more? Y/N')\n",
    "        if response == 'Y':\n",
    "            print(\"\")\n",
    "        elif response == 'N':\n",
    "            break\n",
    "        else:\n",
    "            print(\"Fill in approriate value\")\n",
    "\n",
    "    print('Added Orange to shop')"
   ]
  },
  {
   "cell_type": "code",
   "execution_count": null,
   "metadata": {},
   "outputs": [],
   "source": [
    "#tableat\n",
    "#terminal gitbush\n",
    "# venv -keep a copy of python3 \n",
    "#source paste\n",
    "# pip install tablet"
   ]
  },
  {
   "cell_type": "code",
   "execution_count": 1,
   "metadata": {},
   "outputs": [
    {
     "name": "stdout",
     "output_type": "stream",
     "text": [
      "------  --  ---\n",
      "Apple   30  0.5\n",
      "Banana  20  0.2\n",
      "------  --  ---\n",
      "name      quantity    price\n",
      "------  ----------  -------\n",
      "Apple           30      0.5\n",
      "Banana          20      0.2\n",
      "+--------+----------+-------+\n",
      "|  name  | quantity | price |\n",
      "+--------+----------+-------+\n",
      "| Apple  |    30    |  0.5  |\n",
      "| Banana |    20    |  0.2  |\n",
      "+--------+----------+-------+\n"
     ]
    }
   ],
   "source": [
    "from tabulate import tabulate\n",
    "\n",
    "\n",
    "shop = [\n",
    "    {\"name\": \"Apple\", \"quantity\": 30, \"price\": 0.50}, # 15\n",
    "    {\"name\": \"Banana\", \"quantity\": 20, \"price\": 0.20}, # 4\n",
    "]\n",
    "\n",
    "\n",
    "print(tabulate(shop))\n",
    "\n",
    "print(tabulate(shop, headers='keys'))\n",
    "\n",
    "print(tabulate(shop, headers='keys', tablefmt='pretty'))"
   ]
  },
  {
   "cell_type": "code",
   "execution_count": null,
   "metadata": {},
   "outputs": [],
   "source": [
    "tabulate((shop))"
   ]
  }
 ],
 "metadata": {
  "kernelspec": {
   "display_name": "myenv",
   "language": "python",
   "name": "python3"
  },
  "language_info": {
   "codemirror_mode": {
    "name": "ipython",
    "version": 3
   },
   "file_extension": ".py",
   "mimetype": "text/x-python",
   "name": "python",
   "nbconvert_exporter": "python",
   "pygments_lexer": "ipython3",
   "version": "3.13.0"
  }
 },
 "nbformat": 4,
 "nbformat_minor": 2
}
